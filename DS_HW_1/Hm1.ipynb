{
 "cells": [
  {
   "cell_type": "code",
   "execution_count": 4,
   "id": "29554855-1949-492c-b515-c8fe444e8e14",
   "metadata": {},
   "outputs": [],
   "source": [
    "import numpy as np"
   ]
  },
  {
   "cell_type": "code",
   "execution_count": 5,
   "id": "06343804-f60f-42e7-88ed-81d3af5de4a0",
   "metadata": {},
   "outputs": [
    {
     "name": "stdout",
     "output_type": "stream",
     "text": [
      "[ 0  1  2  3  4  5  6  7  8  9 10]\n"
     ]
    }
   ],
   "source": [
    "# 1 Створіть одновимірний масив (вектор) з першими 10-ма натуральними числами та виведіть його значення.\n",
    "a = np.arange(11)\n",
    "print(a)"
   ]
  },
  {
   "cell_type": "code",
   "execution_count": 17,
   "id": "bfd4b671-9e6f-438a-94a9-458d959e2ae3",
   "metadata": {},
   "outputs": [
    {
     "name": "stdout",
     "output_type": "stream",
     "text": [
      "[[0 0 0]\n",
      " [0 0 0]\n",
      " [0 0 0]]\n"
     ]
    }
   ],
   "source": [
    "# 2 Створіть двовимірний масив (матрицю) розміром 3x3, заповніть його нулями та виведіть його значення.\n",
    "m = np.zeros((3, 3), dtype=int)\n",
    "print(m)"
   ]
  },
  {
   "cell_type": "code",
   "execution_count": 14,
   "id": "80eba646-7f9b-46e0-b286-5702d527e36c",
   "metadata": {},
   "outputs": [
    {
     "name": "stdout",
     "output_type": "stream",
     "text": [
      "[[ 3  8  3  2  5]\n",
      " [ 3  3 10  9 10]\n",
      " [ 9  3  1  1  4]\n",
      " [ 5  6  1  5 10]\n",
      " [ 8  2  2  7  9]]\n"
     ]
    }
   ],
   "source": [
    "# 3 Створіть масив розміром 5x5, заповніть його випадковими цілими числами в діапазоні від 1 до 10 та виведіть його значення.\n",
    "m = np.random.randint(1, 11, (5, 5))\n",
    "print(m)"
   ]
  },
  {
   "cell_type": "code",
   "execution_count": 16,
   "id": "14d9678e-2bb3-4f8b-af27-8e15b275cdca",
   "metadata": {},
   "outputs": [
    {
     "name": "stdout",
     "output_type": "stream",
     "text": [
      "[[0 1 1 0]\n",
      " [1 0 0 1]\n",
      " [1 0 0 1]\n",
      " [0 0 0 0]]\n"
     ]
    }
   ],
   "source": [
    "# 4 Створіть масив розміром 4x4, заповніть його випадковими дійсними числами в діапазоні від 0 до 1 та виведіть його значення.\n",
    "m = np.random.randint(0, 2, (4, 4))\n",
    "print(m)"
   ]
  },
  {
   "cell_type": "code",
   "execution_count": 24,
   "id": "fde8cc70-bf0d-4e06-a0db-a596ff89431f",
   "metadata": {},
   "outputs": [
    {
     "name": "stdout",
     "output_type": "stream",
     "text": [
      "[10 11 10 18  5]\n",
      "[ 0  3 -4  0  3]\n",
      "[25 28 21 81  4]\n"
     ]
    }
   ],
   "source": [
    "# 5 Створіть два одновимірних масиви розміром 5, заповніть їх випадковими цілими числами в діапазоні від 1 до 10 та виконайте на них поелементні операції додавання, віднімання та множення.\n",
    "first = np.random.randint(1, 11, (5))\n",
    "second = np.random.randint(1, 11, (5))\n",
    "addition_result = first + second\n",
    "subtraction_result = first - second\n",
    "multiplication_result = first * second\n"
   ]
  },
  {
   "cell_type": "code",
   "execution_count": 25,
   "id": "d80ccf5d-4017-4534-aac1-401e69781a95",
   "metadata": {},
   "outputs": [
    {
     "name": "stdout",
     "output_type": "stream",
     "text": [
      "224\n"
     ]
    }
   ],
   "source": [
    "# 6 Створіть два вектори розміром 7, заповніть довільними числами та знайдіть їх скалярний добуток.\n",
    "first = np.random.randint(1, 11, (7))\n",
    "second = np.random.randint(1, 11, (7))\n",
    "result = np.dot(first, second)\n",
    "print(result)"
   ]
  },
  {
   "cell_type": "code",
   "execution_count": 29,
   "id": "9ccda956-b66a-40f2-a487-06bed58704ba",
   "metadata": {},
   "outputs": [
    {
     "name": "stdout",
     "output_type": "stream",
     "text": [
      "[[ 21  20  13]\n",
      " [107 105  81]]\n"
     ]
    }
   ],
   "source": [
    "# 7 Створіть дві матриці розміром 2x2 та 2x3, заповніть їх випадковими цілими числами в діапазоні від 1 до 10 та перемножте їх між собою.\n",
    "first = np.random.randint(1, 11, (2, 2))\n",
    "second = np.random.randint(1, 11, (2, 3))\n",
    "result = np.dot(first, second)\n",
    "print(result)"
   ]
  },
  {
   "cell_type": "code",
   "execution_count": 30,
   "id": "e86ec7cf-483e-4918-acd8-defefaf58147",
   "metadata": {},
   "outputs": [
    {
     "name": "stdout",
     "output_type": "stream",
     "text": [
      "[[-0.45762712 -0.01694915  0.52542373]\n",
      " [ 0.16101695  0.13559322 -0.20338983]\n",
      " [ 0.38135593 -0.15254237 -0.27118644]]\n"
     ]
    }
   ],
   "source": [
    "# 8 Створіть матрицю розміром 3x3, заповніть її випадковими цілими числами в діапазоні від 1 до 10 та знайдіть її обернену матрицю.\n",
    "m = np.random.randint(1, 11, (3, 3))\n",
    "a_inv = np.linalg.inv(m)\n",
    "print(a_inv)\n"
   ]
  },
  {
   "cell_type": "code",
   "execution_count": 32,
   "id": "b9deed71-fc51-43cb-9143-c8b2c5bc0db4",
   "metadata": {},
   "outputs": [
    {
     "name": "stdout",
     "output_type": "stream",
     "text": [
      "[[0 0 1 0]\n",
      " [0 0 0 0]\n",
      " [0 1 0 0]\n",
      " [0 0 1 1]]\n",
      "[[0 0 0 0]\n",
      " [0 0 1 0]\n",
      " [1 0 0 1]\n",
      " [0 0 0 1]]\n"
     ]
    }
   ],
   "source": [
    "# 9 Створіть матрицю розміром 4x4, заповніть її випадковими дійсними числами в діапазоні від 0 до 1 та транспонуйте її.\n",
    "m = np.random.randint(0, 2, (4, 4))\n",
    "print(m)\n",
    "result = m.T\n",
    "print(result)"
   ]
  },
  {
   "cell_type": "code",
   "execution_count": 34,
   "id": "71ab38c2-bef0-4155-9866-e7b1441bc3b7",
   "metadata": {},
   "outputs": [
    {
     "name": "stdout",
     "output_type": "stream",
     "text": [
      "[152 196 184]\n"
     ]
    }
   ],
   "source": [
    "# 10 Створіть матрицю розміром 3x4 та вектор розміром 4, заповніть їх випадковими цілими числами в діапазоні від 1 до 10 та перемножте матрицю на вектор.\n",
    "matrix = np.random.randint(1, 11, (3, 4))\n",
    "vector = np.random.randint(1, 11, (4))\n",
    "result = np.dot(matrix, vector)\n",
    "print(result)"
   ]
  },
  {
   "cell_type": "code",
   "execution_count": 35,
   "id": "b67fa84e-15db-4eae-922b-41266c0b0091",
   "metadata": {},
   "outputs": [
    {
     "name": "stdout",
     "output_type": "stream",
     "text": [
      "[133 182]\n"
     ]
    }
   ],
   "source": [
    "# 11 Створіть матрицю розміром 2x3 та вектор розміром 3, заповніть їх випадковими дійсними числами в діапазоні від 0 до 1 та перемножте матрицю на вектор.\n",
    "matrix = np.random.randint(1, 11, (2, 3))\n",
    "vector = np.random.randint(1, 11, (3))\n",
    "result = np.dot(matrix, vector)\n",
    "print(result)\n"
   ]
  },
  {
   "cell_type": "code",
   "execution_count": 40,
   "id": "0041e530-5d30-4a00-b6a1-c259d20fbacd",
   "metadata": {},
   "outputs": [
    {
     "name": "stdout",
     "output_type": "stream",
     "text": [
      "[[80 16]\n",
      " [ 2 32]]\n"
     ]
    }
   ],
   "source": [
    "# 12 Створіть дві матриці розміром 2x2, заповніть їх випадковими цілими числами в діапазоні від 1 до 10 та виконайте їхнє поелементне множення.\n",
    "matrix1 = np.random.randint(1, 11, (2, 2))\n",
    "matrix2 = np.random.randint(1, 11, (2, 2))\n",
    "result = np.multiply(matrix1, matrix2)\n",
    "print(result)"
   ]
  },
  {
   "cell_type": "code",
   "execution_count": 41,
   "id": "30acfaf8-d707-4870-ae0f-1b582ec28366",
   "metadata": {},
   "outputs": [
    {
     "name": "stdout",
     "output_type": "stream",
     "text": [
      "[[77 59]\n",
      " [62 60]]\n"
     ]
    }
   ],
   "source": [
    "# 13 Створіть дві матриці розміром 2x2, заповніть їх випадковими цілими числами в діапазоні від 1 до 10 та знайдіть їх добуток.\n",
    "matrix1 = np.random.randint(1, 11, (2, 2))\n",
    "matrix2 = np.random.randint(1, 11, (2, 2))\n",
    "result = np.dot(matrix1, matrix2)\n",
    "print(result)"
   ]
  },
  {
   "cell_type": "code",
   "execution_count": 43,
   "id": "e6a37696-2208-42de-99ad-a81af151a3be",
   "metadata": {},
   "outputs": [
    {
     "name": "stdout",
     "output_type": "stream",
     "text": [
      "1174\n"
     ]
    }
   ],
   "source": [
    "# 14 Створіть матрицю розміром 5x5, заповніть її випадковими цілими числами в діапазоні від 1 до 100 та знайдіть суму елементів матриці.\n",
    "matrix = np.random.randint(1, 101, (5, 5))\n",
    "result = np.sum(matrix)\n",
    "print(result)"
   ]
  },
  {
   "cell_type": "code",
   "execution_count": 44,
   "id": "20ca90fa-cd7a-4625-aeba-746796cc2816",
   "metadata": {},
   "outputs": [
    {
     "name": "stdout",
     "output_type": "stream",
     "text": [
      "[[-3 -1  7 -3]\n",
      " [ 1  1  3 -4]\n",
      " [ 3 -6 -3 -1]\n",
      " [ 0  5  0  3]]\n"
     ]
    }
   ],
   "source": [
    "# 15 Створіть дві матриці розміром 4x4, заповніть їх випадковими цілими числами в діапазоні від 1 до 10 та знайдіть їхню різницю.\n",
    "matrix1 = np.random.randint(1, 11, (4, 4))\n",
    "matrix2 = np.random.randint(1, 11, (4, 4))\n",
    "result = matrix1 - matrix2\n",
    "print(result)"
   ]
  },
  {
   "cell_type": "code",
   "execution_count": 46,
   "id": "60f9a414-5b42-41e5-9e04-102ecd10b786",
   "metadata": {},
   "outputs": [
    {
     "name": "stdout",
     "output_type": "stream",
     "text": [
      "[[0.6134709 ]\n",
      " [1.58575935]\n",
      " [0.69349027]]\n"
     ]
    }
   ],
   "source": [
    "# 16 Створіть матрицю розміром 3x3, заповніть її випадковими дійсними числами в діапазоні від 0 до 1 та знайдіть вектор-стовпчик, що містить суму елементів кожного рядка матриці.\n",
    "matrix = np.random.rand(3, 3)\n",
    "row_sums = np.sum(matrix, axis=1)\n",
    "result = row_sums.reshape(3, 1)\n",
    "print(result)"
   ]
  },
  {
   "cell_type": "code",
   "execution_count": 48,
   "id": "fe30dc1b-a2b9-44ba-b929-2011414d7b35",
   "metadata": {},
   "outputs": [
    {
     "name": "stdout",
     "output_type": "stream",
     "text": [
      "[[36  4 81  1]\n",
      " [25 16 81  1]\n",
      " [ 1  1 81 64]]\n"
     ]
    }
   ],
   "source": [
    "# 17 Створіть матрицю розміром 3x4 з довільними цілими числами і створінь матрицю з квадратами цих чисел.\n",
    "matrix = np.random.randint(1, 11, (3, 4))\n",
    "result = np.square(matrix)\n",
    "print(result)"
   ]
  },
  {
   "cell_type": "code",
   "execution_count": 5,
   "id": "03052bd3-ec44-419a-a3f3-f5649d5e4721",
   "metadata": {},
   "outputs": [
    {
     "name": "stdout",
     "output_type": "stream",
     "text": [
      "[4.24264069 4.89897949 5.29150262 6.70820393]\n"
     ]
    }
   ],
   "source": [
    "# 18 Створіть вектор розміром 4, заповніть його випадковими цілими числами в діапазоні від 1 до 50 та знайдіть вектор з квадратними коренями цих чисел.\n",
    "vector = np.random.randint(1, 51, 4)\n",
    "result = np.sqrt(vector)\n",
    "print(result)"
   ]
  }
 ],
 "metadata": {
  "kernelspec": {
   "display_name": "Python 3 (ipykernel)",
   "language": "python",
   "name": "python3"
  },
  "language_info": {
   "codemirror_mode": {
    "name": "ipython",
    "version": 3
   },
   "file_extension": ".py",
   "mimetype": "text/x-python",
   "name": "python",
   "nbconvert_exporter": "python",
   "pygments_lexer": "ipython3",
   "version": "3.10.8"
  }
 },
 "nbformat": 4,
 "nbformat_minor": 5
}
