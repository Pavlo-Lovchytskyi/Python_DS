{
 "cells": [
  {
   "cell_type": "code",
   "execution_count": 2,
   "id": "43206fb3-0232-43d3-9bcb-8a23e44154c2",
   "metadata": {},
   "outputs": [],
   "source": [
    "import pandas as pd\n",
    "import numpy as np\n",
    "import matplotlib.pyplot as plt\n",
    "%matplotlib inline"
   ]
  },
  {
   "cell_type": "code",
   "execution_count": 5,
   "id": "5f7bff7c-eee5-4a0b-be12-cdeb66040b82",
   "metadata": {},
   "outputs": [
    {
     "name": "stdout",
     "output_type": "stream",
     "text": [
      "             Регіон  1950  1960  1970  1990  2000  2012  2014  2019\n",
      "0              Крим  23.0  20.6  16.0  13.0   7.3  12.6     —     —\n",
      "1         Вінницька  22.4  19.2  14.2  12.4   8.4  11.2  10.9   7.6\n",
      "2         Волинська  24.7  25.0  17.9  15.3  11.2  14.8  14.1  10.1\n",
      "3  Дніпропетровська  20.4  20.4  15.1  12.3   7.1  11.2  11.1   7.1\n",
      "4          Донецька  27.1  21.4  14.0  10.9   6.1   9.8   8.2     —\n"
     ]
    }
   ],
   "source": [
    "url = \"https://uk.wikipedia.org/wiki/%D0%9D%D0%B0%D1%81%D0%B5%D0%BB%D0%B5%D0%BD%D0%BD%D1%8F_%D0%A3%D0%BA%D1%80%D0%B0%D1%97%D0%BD%D0%B8\"\n",
    "all = pd.read_html(url, thousands=\"\", decimal=\",\", match = \"Коефіцієнт народжуваності в регіонах України\",)\n",
    "\n",
    "data = pd.DataFrame(all[0])\n",
    "print(data.head())"
   ]
  },
  {
   "cell_type": "code",
   "execution_count": 53,
   "id": "9bfb68c4-bf8c-4a74-8868-004dd03cae45",
   "metadata": {},
   "outputs": [
    {
     "name": "stdout",
     "output_type": "stream",
     "text": [
      "Кількість рядків та стовпців: (28, 9)\n"
     ]
    }
   ],
   "source": [
    "count = data.shape\n",
    "print(\"Кількість рядків та стовпців:\", count)"
   ]
  },
  {
   "cell_type": "code",
   "execution_count": 62,
   "id": "44a8ada1-9637-4b44-9ff2-6e94fa6e39a7",
   "metadata": {},
   "outputs": [
    {
     "name": "stdout",
     "output_type": "stream",
     "text": [
      "               Регіон  1950  1960  1970  1990  2000  2012  2014  2019\n",
      "0                Крим  23.0  20.6  16.0  13.0   7.3  12.6  <NA>  <NA>\n",
      "1           Вінницька  22.4  19.2  14.2  12.4   8.4  11.2  10.9   7.6\n",
      "2           Волинська  24.7  25.0  17.9  15.3  11.2  14.8  14.1  10.1\n",
      "3    Дніпропетровська  20.4  20.4  15.1  12.3   7.1  11.2  11.1   7.1\n",
      "4            Донецька  27.1  21.4  14.0  10.9   6.1   9.8   8.2  <NA>\n",
      "5         Житомирська  26.1  22.3  15.9  12.9   8.9  12.2  12.0   7.9\n",
      "6        Закарпатська  31.4  27.3  20.7  16.8  11.5  15.1  14.6  10.4\n",
      "7          Запорізька  21.9  19.7  15.0  12.4   7.1  10.6  10.6   6.8\n",
      "8   Івано-Франківська  24.3  24.8  18.2  15.5  10.3  12.4  12.2   8.8\n",
      "9            Київська  20.4  18.9  15.6  12.3   7.3  12.2  12.1   8.0\n",
      "10     Кіровоградська  21.6  17.1  14.5  12.6   7.9  11.0  10.8   6.8\n",
      "11          Луганська  26.2  23.5  14.4  11.6   6.2   9.6   5.1  <NA>\n",
      "12          Львівська  23.4  24.0  17.1  14.0   9.1  11.9  11.9   8.7\n",
      "13       Миколаївська  21.1  19.4  15.5  13.7   8.0  11.5  11.2   7.1\n",
      "14            Одеська  24.1  19.2  14.8  12.6   8.0  12.7  12.3   8.8\n",
      "15         Полтавська  18.6  16.3  13.1  11.8   7.0   9.9  10.0   6.5\n",
      "16         Рівненська  26.9  26.7  19.3  15.8  11.8  15.9  14.8  10.7\n",
      "17            Сумська  21.6  18.4  13.2  11.5   7.0   9.7   9.2   6.0\n",
      "18      Тернопільська  21.3  21.6  15.7  14.2   9.2  11.3  10.9   7.6\n",
      "19         Харківська  19.7  17.3  14.0  11.4   6.8   9.9  10.1   6.8\n",
      "20         Херсонська  20.8  21.4  16.6  14.3   8.5  11.7  11.5   8.1\n",
      "21        Хмельницька  23.4  19.8  14.8  12.9   8.5  11.3  11.2   7.9\n",
      "22          Черкаська  20.5  17.9  14.4  12.3   7.5  10.0   9.8   6.4\n",
      "23        Чернівецька  24.7  21.8  17.0  14.8  10.1  12.8  12.9   9.2\n",
      "24       Чернігівська  22.0  18.3  12.7  10.8   6.9   9.4   9.0   6.1\n",
      "25               Київ   NaN  17.4  15.9  12.0   7.3  12.0  12.1  11.0\n",
      "26        Севастополь   NaN   NaN   NaN  12.5   7.0  12.0  <NA>  <NA>\n",
      "27            Україна  22.8  20.5  15.2  12.6   7.8  11.4  11.1   8.1\n"
     ]
    }
   ],
   "source": [
    "data2 = data.copy()\n",
    "data2.replace('—', pd.NA, inplace=True)\n",
    "print(data2)"
   ]
  },
  {
   "cell_type": "code",
   "execution_count": 63,
   "id": "1c08a125-f2de-4faf-a5b5-4b584624c0df",
   "metadata": {},
   "outputs": [
    {
     "name": "stdout",
     "output_type": "stream",
     "text": [
      "Регіон     object\n",
      "1950      float64\n",
      "1960      float64\n",
      "1970      float64\n",
      "1990      float64\n",
      "2000      float64\n",
      "2012      float64\n",
      "2014       object\n",
      "2019       object\n",
      "dtype: object\n"
     ]
    }
   ],
   "source": [
    "column = data2.dtypes\n",
    "print(column)"
   ]
  },
  {
   "cell_type": "code",
   "execution_count": 66,
   "id": "db752808-52c8-4594-8a2a-a3c3e48bc05c",
   "metadata": {},
   "outputs": [
    {
     "name": "stdout",
     "output_type": "stream",
     "text": [
      "Регіон     object\n",
      "1950      float64\n",
      "1960      float64\n",
      "1970      float64\n",
      "1990      float64\n",
      "2000      float64\n",
      "2012      float64\n",
      "2014      float64\n",
      "2019      float64\n",
      "dtype: object\n"
     ]
    }
   ],
   "source": [
    "data2 = data2.replace(\"—\", np.nan)\n",
    "\n",
    "numeric_columns = data2.select_dtypes(include=['object'])\n",
    "\n",
    "for column in numeric_columns.columns:\n",
    "    if column != 'Регіон':\n",
    "        data2[column] = pd.to_numeric(data2[column], errors='coerce')\n",
    "\n",
    "print(data2.dtypes)"
   ]
  },
  {
   "cell_type": "code",
   "execution_count": 67,
   "id": "df7d3a20-1df9-42ec-875b-cc67ea3797ce",
   "metadata": {},
   "outputs": [
    {
     "name": "stdout",
     "output_type": "stream",
     "text": [
      "Регіон    0.000000\n",
      "1950      0.071429\n",
      "1960      0.035714\n",
      "1970      0.035714\n",
      "1990      0.000000\n",
      "2000      0.000000\n",
      "2012      0.000000\n",
      "2014      0.071429\n",
      "2019      0.142857\n",
      "dtype: float64\n"
     ]
    }
   ],
   "source": [
    "missed = data2.isnull().sum(axis=0) / len(data2)\n",
    "print(missed)"
   ]
  },
  {
   "cell_type": "code",
   "execution_count": 68,
   "id": "3ad35c86-c033-488b-b2fc-b739c2a5972d",
   "metadata": {},
   "outputs": [
    {
     "name": "stdout",
     "output_type": "stream",
     "text": [
      "               Регіон  1950  1960  1970  1990  2000  2012  2014  2019\n",
      "0                Крим  23.0  20.6  16.0  13.0   7.3  12.6   NaN   NaN\n",
      "1           Вінницька  22.4  19.2  14.2  12.4   8.4  11.2  10.9   7.6\n",
      "2           Волинська  24.7  25.0  17.9  15.3  11.2  14.8  14.1  10.1\n",
      "3    Дніпропетровська  20.4  20.4  15.1  12.3   7.1  11.2  11.1   7.1\n",
      "4            Донецька  27.1  21.4  14.0  10.9   6.1   9.8   8.2   NaN\n",
      "5         Житомирська  26.1  22.3  15.9  12.9   8.9  12.2  12.0   7.9\n",
      "6        Закарпатська  31.4  27.3  20.7  16.8  11.5  15.1  14.6  10.4\n",
      "7          Запорізька  21.9  19.7  15.0  12.4   7.1  10.6  10.6   6.8\n",
      "8   Івано-Франківська  24.3  24.8  18.2  15.5  10.3  12.4  12.2   8.8\n",
      "9            Київська  20.4  18.9  15.6  12.3   7.3  12.2  12.1   8.0\n",
      "10     Кіровоградська  21.6  17.1  14.5  12.6   7.9  11.0  10.8   6.8\n",
      "11          Луганська  26.2  23.5  14.4  11.6   6.2   9.6   5.1   NaN\n",
      "12          Львівська  23.4  24.0  17.1  14.0   9.1  11.9  11.9   8.7\n",
      "13       Миколаївська  21.1  19.4  15.5  13.7   8.0  11.5  11.2   7.1\n",
      "14            Одеська  24.1  19.2  14.8  12.6   8.0  12.7  12.3   8.8\n",
      "15         Полтавська  18.6  16.3  13.1  11.8   7.0   9.9  10.0   6.5\n",
      "16         Рівненська  26.9  26.7  19.3  15.8  11.8  15.9  14.8  10.7\n",
      "17            Сумська  21.6  18.4  13.2  11.5   7.0   9.7   9.2   6.0\n",
      "18      Тернопільська  21.3  21.6  15.7  14.2   9.2  11.3  10.9   7.6\n",
      "19         Харківська  19.7  17.3  14.0  11.4   6.8   9.9  10.1   6.8\n",
      "20         Херсонська  20.8  21.4  16.6  14.3   8.5  11.7  11.5   8.1\n",
      "21        Хмельницька  23.4  19.8  14.8  12.9   8.5  11.3  11.2   7.9\n",
      "22          Черкаська  20.5  17.9  14.4  12.3   7.5  10.0   9.8   6.4\n",
      "23        Чернівецька  24.7  21.8  17.0  14.8  10.1  12.8  12.9   9.2\n",
      "24       Чернігівська  22.0  18.3  12.7  10.8   6.9   9.4   9.0   6.1\n",
      "25               Київ   NaN  17.4  15.9  12.0   7.3  12.0  12.1  11.0\n",
      "26        Севастополь   NaN   NaN   NaN  12.5   7.0  12.0   NaN   NaN\n"
     ]
    }
   ],
   "source": [
    "data2 = data2.drop(data2.index[len(data2)-1])\n",
    "print(data2)"
   ]
  },
  {
   "cell_type": "code",
   "execution_count": 69,
   "id": "e9930481-daa5-40ba-a989-f6f0e397b007",
   "metadata": {},
   "outputs": [
    {
     "name": "stdout",
     "output_type": "stream",
     "text": [
      "1950    23.104000\n",
      "1960    20.757692\n",
      "1970    15.600000\n",
      "1990    13.059259\n",
      "2000     8.222222\n",
      "2012    11.655556\n",
      "2014    11.144000\n",
      "2019     8.017391\n",
      "dtype: float64\n",
      "               Регіон    1950       1960  1970  1990  2000  2012    2014  \\\n",
      "0                Крим  23.000  20.600000  16.0  13.0   7.3  12.6  11.144   \n",
      "1           Вінницька  22.400  19.200000  14.2  12.4   8.4  11.2  10.900   \n",
      "2           Волинська  24.700  25.000000  17.9  15.3  11.2  14.8  14.100   \n",
      "3    Дніпропетровська  20.400  20.400000  15.1  12.3   7.1  11.2  11.100   \n",
      "4            Донецька  27.100  21.400000  14.0  10.9   6.1   9.8   8.200   \n",
      "5         Житомирська  26.100  22.300000  15.9  12.9   8.9  12.2  12.000   \n",
      "6        Закарпатська  31.400  27.300000  20.7  16.8  11.5  15.1  14.600   \n",
      "7          Запорізька  21.900  19.700000  15.0  12.4   7.1  10.6  10.600   \n",
      "8   Івано-Франківська  24.300  24.800000  18.2  15.5  10.3  12.4  12.200   \n",
      "9            Київська  20.400  18.900000  15.6  12.3   7.3  12.2  12.100   \n",
      "10     Кіровоградська  21.600  17.100000  14.5  12.6   7.9  11.0  10.800   \n",
      "11          Луганська  26.200  23.500000  14.4  11.6   6.2   9.6   5.100   \n",
      "12          Львівська  23.400  24.000000  17.1  14.0   9.1  11.9  11.900   \n",
      "13       Миколаївська  21.100  19.400000  15.5  13.7   8.0  11.5  11.200   \n",
      "14            Одеська  24.100  19.200000  14.8  12.6   8.0  12.7  12.300   \n",
      "15         Полтавська  18.600  16.300000  13.1  11.8   7.0   9.9  10.000   \n",
      "16         Рівненська  26.900  26.700000  19.3  15.8  11.8  15.9  14.800   \n",
      "17            Сумська  21.600  18.400000  13.2  11.5   7.0   9.7   9.200   \n",
      "18      Тернопільська  21.300  21.600000  15.7  14.2   9.2  11.3  10.900   \n",
      "19         Харківська  19.700  17.300000  14.0  11.4   6.8   9.9  10.100   \n",
      "20         Херсонська  20.800  21.400000  16.6  14.3   8.5  11.7  11.500   \n",
      "21        Хмельницька  23.400  19.800000  14.8  12.9   8.5  11.3  11.200   \n",
      "22          Черкаська  20.500  17.900000  14.4  12.3   7.5  10.0   9.800   \n",
      "23        Чернівецька  24.700  21.800000  17.0  14.8  10.1  12.8  12.900   \n",
      "24       Чернігівська  22.000  18.300000  12.7  10.8   6.9   9.4   9.000   \n",
      "25               Київ  23.104  17.400000  15.9  12.0   7.3  12.0  12.100   \n",
      "26        Севастополь  23.104  20.757692  15.6  12.5   7.0  12.0  11.144   \n",
      "\n",
      "         2019  \n",
      "0    8.017391  \n",
      "1    7.600000  \n",
      "2   10.100000  \n",
      "3    7.100000  \n",
      "4    8.017391  \n",
      "5    7.900000  \n",
      "6   10.400000  \n",
      "7    6.800000  \n",
      "8    8.800000  \n",
      "9    8.000000  \n",
      "10   6.800000  \n",
      "11   8.017391  \n",
      "12   8.700000  \n",
      "13   7.100000  \n",
      "14   8.800000  \n",
      "15   6.500000  \n",
      "16  10.700000  \n",
      "17   6.000000  \n",
      "18   7.600000  \n",
      "19   6.800000  \n",
      "20   8.100000  \n",
      "21   7.900000  \n",
      "22   6.400000  \n",
      "23   9.200000  \n",
      "24   6.100000  \n",
      "25  11.000000  \n",
      "26   8.017391  \n"
     ]
    }
   ],
   "source": [
    "means = data2.mean(axis=0, numeric_only=True)\n",
    "print(means)\n",
    "data2 = data2.fillna(means)\n",
    "print(data2)"
   ]
  },
  {
   "cell_type": "code",
   "execution_count": 70,
   "id": "968bfcc8-5556-4d02-8db2-28f8fa50f0df",
   "metadata": {},
   "outputs": [
    {
     "name": "stdout",
     "output_type": "stream",
     "text": [
      "8.017391304347827\n"
     ]
    },
    {
     "data": {
      "text/html": [
       "<div>\n",
       "<style scoped>\n",
       "    .dataframe tbody tr th:only-of-type {\n",
       "        vertical-align: middle;\n",
       "    }\n",
       "\n",
       "    .dataframe tbody tr th {\n",
       "        vertical-align: top;\n",
       "    }\n",
       "\n",
       "    .dataframe thead th {\n",
       "        text-align: right;\n",
       "    }\n",
       "</style>\n",
       "<table border=\"1\" class=\"dataframe\">\n",
       "  <thead>\n",
       "    <tr style=\"text-align: right;\">\n",
       "      <th></th>\n",
       "      <th>Регіон</th>\n",
       "      <th>1950</th>\n",
       "      <th>1960</th>\n",
       "      <th>1970</th>\n",
       "      <th>1990</th>\n",
       "      <th>2000</th>\n",
       "      <th>2012</th>\n",
       "      <th>2014</th>\n",
       "      <th>2019</th>\n",
       "    </tr>\n",
       "  </thead>\n",
       "  <tbody>\n",
       "    <tr>\n",
       "      <th>2</th>\n",
       "      <td>Волинська</td>\n",
       "      <td>24.700</td>\n",
       "      <td>25.0</td>\n",
       "      <td>17.9</td>\n",
       "      <td>15.3</td>\n",
       "      <td>11.2</td>\n",
       "      <td>14.8</td>\n",
       "      <td>14.1</td>\n",
       "      <td>10.1</td>\n",
       "    </tr>\n",
       "    <tr>\n",
       "      <th>6</th>\n",
       "      <td>Закарпатська</td>\n",
       "      <td>31.400</td>\n",
       "      <td>27.3</td>\n",
       "      <td>20.7</td>\n",
       "      <td>16.8</td>\n",
       "      <td>11.5</td>\n",
       "      <td>15.1</td>\n",
       "      <td>14.6</td>\n",
       "      <td>10.4</td>\n",
       "    </tr>\n",
       "    <tr>\n",
       "      <th>8</th>\n",
       "      <td>Івано-Франківська</td>\n",
       "      <td>24.300</td>\n",
       "      <td>24.8</td>\n",
       "      <td>18.2</td>\n",
       "      <td>15.5</td>\n",
       "      <td>10.3</td>\n",
       "      <td>12.4</td>\n",
       "      <td>12.2</td>\n",
       "      <td>8.8</td>\n",
       "    </tr>\n",
       "    <tr>\n",
       "      <th>12</th>\n",
       "      <td>Львівська</td>\n",
       "      <td>23.400</td>\n",
       "      <td>24.0</td>\n",
       "      <td>17.1</td>\n",
       "      <td>14.0</td>\n",
       "      <td>9.1</td>\n",
       "      <td>11.9</td>\n",
       "      <td>11.9</td>\n",
       "      <td>8.7</td>\n",
       "    </tr>\n",
       "    <tr>\n",
       "      <th>14</th>\n",
       "      <td>Одеська</td>\n",
       "      <td>24.100</td>\n",
       "      <td>19.2</td>\n",
       "      <td>14.8</td>\n",
       "      <td>12.6</td>\n",
       "      <td>8.0</td>\n",
       "      <td>12.7</td>\n",
       "      <td>12.3</td>\n",
       "      <td>8.8</td>\n",
       "    </tr>\n",
       "    <tr>\n",
       "      <th>16</th>\n",
       "      <td>Рівненська</td>\n",
       "      <td>26.900</td>\n",
       "      <td>26.7</td>\n",
       "      <td>19.3</td>\n",
       "      <td>15.8</td>\n",
       "      <td>11.8</td>\n",
       "      <td>15.9</td>\n",
       "      <td>14.8</td>\n",
       "      <td>10.7</td>\n",
       "    </tr>\n",
       "    <tr>\n",
       "      <th>20</th>\n",
       "      <td>Херсонська</td>\n",
       "      <td>20.800</td>\n",
       "      <td>21.4</td>\n",
       "      <td>16.6</td>\n",
       "      <td>14.3</td>\n",
       "      <td>8.5</td>\n",
       "      <td>11.7</td>\n",
       "      <td>11.5</td>\n",
       "      <td>8.1</td>\n",
       "    </tr>\n",
       "    <tr>\n",
       "      <th>23</th>\n",
       "      <td>Чернівецька</td>\n",
       "      <td>24.700</td>\n",
       "      <td>21.8</td>\n",
       "      <td>17.0</td>\n",
       "      <td>14.8</td>\n",
       "      <td>10.1</td>\n",
       "      <td>12.8</td>\n",
       "      <td>12.9</td>\n",
       "      <td>9.2</td>\n",
       "    </tr>\n",
       "    <tr>\n",
       "      <th>25</th>\n",
       "      <td>Київ</td>\n",
       "      <td>23.104</td>\n",
       "      <td>17.4</td>\n",
       "      <td>15.9</td>\n",
       "      <td>12.0</td>\n",
       "      <td>7.3</td>\n",
       "      <td>12.0</td>\n",
       "      <td>12.1</td>\n",
       "      <td>11.0</td>\n",
       "    </tr>\n",
       "  </tbody>\n",
       "</table>\n",
       "</div>"
      ],
      "text/plain": [
       "               Регіон    1950  1960  1970  1990  2000  2012  2014  2019\n",
       "2           Волинська  24.700  25.0  17.9  15.3  11.2  14.8  14.1  10.1\n",
       "6        Закарпатська  31.400  27.3  20.7  16.8  11.5  15.1  14.6  10.4\n",
       "8   Івано-Франківська  24.300  24.8  18.2  15.5  10.3  12.4  12.2   8.8\n",
       "12          Львівська  23.400  24.0  17.1  14.0   9.1  11.9  11.9   8.7\n",
       "14            Одеська  24.100  19.2  14.8  12.6   8.0  12.7  12.3   8.8\n",
       "16         Рівненська  26.900  26.7  19.3  15.8  11.8  15.9  14.8  10.7\n",
       "20         Херсонська  20.800  21.4  16.6  14.3   8.5  11.7  11.5   8.1\n",
       "23        Чернівецька  24.700  21.8  17.0  14.8  10.1  12.8  12.9   9.2\n",
       "25               Київ  23.104  17.4  15.9  12.0   7.3  12.0  12.1  11.0"
      ]
     },
     "execution_count": 70,
     "metadata": {},
     "output_type": "execute_result"
    }
   ],
   "source": [
    "means2019 = data2.mean(axis=0, numeric_only=True)['2019']\n",
    "print(means2019)\n",
    "data2[data2['2019'] > means2019]"
   ]
  },
  {
   "cell_type": "code",
   "execution_count": 71,
   "id": "df18a091-5c5e-468f-a0a4-d0e16a9e6e3c",
   "metadata": {},
   "outputs": [
    {
     "data": {
      "text/html": [
       "<div>\n",
       "<style scoped>\n",
       "    .dataframe tbody tr th:only-of-type {\n",
       "        vertical-align: middle;\n",
       "    }\n",
       "\n",
       "    .dataframe tbody tr th {\n",
       "        vertical-align: top;\n",
       "    }\n",
       "\n",
       "    .dataframe thead th {\n",
       "        text-align: right;\n",
       "    }\n",
       "</style>\n",
       "<table border=\"1\" class=\"dataframe\">\n",
       "  <thead>\n",
       "    <tr style=\"text-align: right;\">\n",
       "      <th></th>\n",
       "      <th>Регіон</th>\n",
       "      <th>1950</th>\n",
       "      <th>1960</th>\n",
       "      <th>1970</th>\n",
       "      <th>1990</th>\n",
       "      <th>2000</th>\n",
       "      <th>2012</th>\n",
       "      <th>2014</th>\n",
       "      <th>2019</th>\n",
       "    </tr>\n",
       "  </thead>\n",
       "  <tbody>\n",
       "    <tr>\n",
       "      <th>16</th>\n",
       "      <td>Рівненська</td>\n",
       "      <td>26.9</td>\n",
       "      <td>26.7</td>\n",
       "      <td>19.3</td>\n",
       "      <td>15.8</td>\n",
       "      <td>11.8</td>\n",
       "      <td>15.9</td>\n",
       "      <td>14.8</td>\n",
       "      <td>10.7</td>\n",
       "    </tr>\n",
       "  </tbody>\n",
       "</table>\n",
       "</div>"
      ],
      "text/plain": [
       "        Регіон  1950  1960  1970  1990  2000  2012  2014  2019\n",
       "16  Рівненська  26.9  26.7  19.3  15.8  11.8  15.9  14.8  10.7"
      ]
     },
     "execution_count": 71,
     "metadata": {},
     "output_type": "execute_result"
    }
   ],
   "source": [
    "data2[data2['2014'] == data2['2014'].max()]"
   ]
  },
  {
   "cell_type": "code",
   "execution_count": 77,
   "id": "1766f039-b20a-473f-a5ef-d83dbf18069f",
   "metadata": {},
   "outputs": [
    {
     "data": {
      "image/png": "[encoded data removed]",
      "text/plain": [
       "<Figure size 640x480 with 1 Axes>"
      ]
     },
     "metadata": {},
     "output_type": "display_data"
    }
   ],
   "source": [
    "plt.bar(data2['Регіон'],data2['2019'], color='b')\n",
    "plt.xticks(rotation=90)\n",
    "plt.ylabel('Коеф. народжуваності')\n",
    "plt.show()"
   ]
  },
  {
   "cell_type": "code",
   "execution_count": null,
   "id": "d47e528b-2c4e-4d33-b74a-77fa2207735d",
   "metadata": {},
   "outputs": [],
   "source": []
  }
 ],
 "metadata": {
  "kernelspec": {
   "display_name": "Python 3 (ipykernel)",
   "language": "python",
   "name": "python3"
  },
  "language_info": {
   "codemirror_mode": {
    "name": "ipython",
    "version": 3
   },
   "file_extension": ".py",
   "mimetype": "text/x-python",
   "name": "python",
   "nbconvert_exporter": "python",
   "pygments_lexer": "ipython3",
   "version": "3.10.8"
  }
 },
 "nbformat": 4,
 "nbformat_minor": 5
}
