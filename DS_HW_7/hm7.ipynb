{
 "cells": [
  {
   "cell_type": "code",
   "execution_count": 22,
   "metadata": {},
   "outputs": [],
   "source": [
    "from surprise import Dataset, Reader\n",
    "from surprise.model_selection import GridSearchCV\n",
    "from surprise import SVD, SVDpp, NMF"
   ]
  },
  {
   "cell_type": "code",
   "execution_count": 23,
   "metadata": {},
   "outputs": [],
   "source": [
    "dataset = Dataset.load_builtin('ml-100k')\n",
    "reader = Reader(rating_scale=(1, 5))"
   ]
  },
  {
   "cell_type": "code",
   "execution_count": 24,
   "metadata": {},
   "outputs": [
    {
     "name": "stdout",
     "output_type": "stream",
     "text": [
      "Найкращий результат RMSE для <class 'surprise.prediction_algorithms.matrix_factorization.SVD'>: 0.9452183658433281\n",
      "Найкращі параметри: {'n_factors': 2, 'n_epochs': 10}\n",
      "Найкращий результат RMSE для <class 'surprise.prediction_algorithms.matrix_factorization.SVDpp'>: 0.9351968411351039\n",
      "Найкращі параметри: {'n_factors': 4, 'n_epochs': 10}\n",
      "Найкращий результат RMSE для <class 'surprise.prediction_algorithms.matrix_factorization.NMF'>: 1.7998095225206256\n",
      "Найкращі параметри: {'n_factors': 4, 'n_epochs': 5}\n",
      "\n",
      "Найкращий алгоритм в цілому: <class 'surprise.prediction_algorithms.matrix_factorization.SVDpp'>\n",
      "Найкращий результат RMSE: 0.9351968411351039\n",
      "Найкращі параметри: {'n_factors': 4, 'n_epochs': 10}\n"
     ]
    }
   ],
   "source": [
    "train = dataset.build_full_trainset()\n",
    "algoritms = [SVD, SVDpp, NMF]\n",
    "param= {'n_factors': [2,4], 'n_epochs': [5,10]}\n",
    "best_algoritm = None\n",
    "best_params = None\n",
    "best_score = float('inf')\n",
    "\n",
    "for algoritm in algoritms:\n",
    "    grid_search = GridSearchCV(algoritm, param, measures=[\"rmse\"], cv=5)\n",
    "    grid_search.fit(dataset)\n",
    "    \n",
    "    print(f\"Найкращий результат RMSE для {algoritm}: {grid_search.best_score['rmse']}\")\n",
    "    print(f\"Найкращі параметри: {grid_search.best_params['rmse']}\")\n",
    "    \n",
    "    if grid_search.best_score['rmse'] < best_score:\n",
    "        best_score = grid_search.best_score['rmse']\n",
    "        best_params = grid_search.best_params['rmse']\n",
    "        best_algoritm = algoritm\n",
    "\n",
    "print(f\"\\nНайкращий алгоритм в цілому: {best_algoritm}\")\n",
    "print(f\"Найкращий результат RMSE: {best_score}\")\n",
    "print(f\"Найкращі параметри: {best_params}\")"
   ]
  },
  {
   "cell_type": "code",
   "execution_count": null,
   "metadata": {},
   "outputs": [],
   "source": []
  }
 ],
 "metadata": {
  "kernelspec": {
   "display_name": "Python 3 (ipykernel)",
   "language": "python",
   "name": "python3"
  },
  "language_info": {
   "codemirror_mode": {
    "name": "ipython",
    "version": 3
   },
   "file_extension": ".py",
   "mimetype": "text/x-python",
   "name": "python",
   "nbconvert_exporter": "python",
   "pygments_lexer": "ipython3",
   "version": "0.0.0"
  }
 },
 "nbformat": 4,
 "nbformat_minor": 4
}
